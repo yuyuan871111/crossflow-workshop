{
 "cells": [
  {
   "cell_type": "markdown",
   "metadata": {},
   "source": [
    "# Crossflow - subprocess: run interactively"
   ]
  },
  {
   "cell_type": "code",
   "execution_count": 1,
   "metadata": {},
   "outputs": [],
   "source": [
    "from crossflow.tasks import SubprocessTask"
   ]
  },
  {
   "cell_type": "code",
   "execution_count": 2,
   "metadata": {},
   "outputs": [],
   "source": [
    "with open('test.txt', 'w') as f:\n",
    "    for i in range(100):\n",
    "        f.write(f'line {i}\\n')"
   ]
  },
  {
   "cell_type": "code",
   "execution_count": 3,
   "metadata": {},
   "outputs": [],
   "source": [
    "# set up the subprocess task\n",
    "reverse = SubprocessTask('tac lines.txt > resersed.txt')\n",
    "reverse.set_inputs(['lines.txt'])\n",
    "reverse.set_outputs(['resersed.txt'])"
   ]
  },
  {
   "cell_type": "code",
   "execution_count": 4,
   "metadata": {},
   "outputs": [
    {
     "name": "stdout",
     "output_type": "stream",
     "text": [
      "<class 'crossflow.filehandling.FileHandle'>\n",
      "/tmp/219a78a3-5521-4022-90e1-594e1b6f608f.txt\n"
     ]
    }
   ],
   "source": [
    "# indicate the input file\n",
    "reversed = reverse('test.txt')\n",
    "print(type(reversed))\n",
    "print(reversed)"
   ]
  },
  {
   "cell_type": "code",
   "execution_count": 5,
   "metadata": {},
   "outputs": [
    {
     "name": "stdout",
     "output_type": "stream",
     "text": [
      "line 99\n",
      "line 98\n",
      "line 97\n",
      "line 96\n",
      "line 95\n",
      "line 94\n",
      "line 93\n",
      "line 92\n",
      "line 91\n",
      "line 90\n",
      "line 89\n",
      "line 88\n",
      "line 87\n",
      "line 86\n",
      "line 85\n",
      "line 84\n",
      "line 83\n",
      "line 82\n",
      "line 81\n",
      "line 80\n",
      "line 79\n",
      "line 78\n",
      "line 77\n",
      "line 76\n",
      "line 75\n",
      "line 74\n",
      "line 73\n",
      "line 72\n",
      "line 71\n",
      "line 70\n",
      "line 69\n",
      "line 68\n",
      "line 67\n",
      "line 66\n",
      "line 65\n",
      "line 64\n",
      "line 63\n",
      "line 62\n",
      "line 61\n",
      "line 60\n",
      "line 59\n",
      "line 58\n",
      "line 57\n",
      "line 56\n",
      "line 55\n",
      "line 54\n",
      "line 53\n",
      "line 52\n",
      "line 51\n",
      "line 50\n",
      "line 49\n",
      "line 48\n",
      "line 47\n",
      "line 46\n",
      "line 45\n",
      "line 44\n",
      "line 43\n",
      "line 42\n",
      "line 41\n",
      "line 40\n",
      "line 39\n",
      "line 38\n",
      "line 37\n",
      "line 36\n",
      "line 35\n",
      "line 34\n",
      "line 33\n",
      "line 32\n",
      "line 31\n",
      "line 30\n",
      "line 29\n",
      "line 28\n",
      "line 27\n",
      "line 26\n",
      "line 25\n",
      "line 24\n",
      "line 23\n",
      "line 22\n",
      "line 21\n",
      "line 20\n",
      "line 19\n",
      "line 18\n",
      "line 17\n",
      "line 16\n",
      "line 15\n",
      "line 14\n",
      "line 13\n",
      "line 12\n",
      "line 11\n",
      "line 10\n",
      "line 9\n",
      "line 8\n",
      "line 7\n",
      "line 6\n",
      "line 5\n",
      "line 4\n",
      "line 3\n",
      "line 2\n",
      "line 1\n",
      "line 0\n",
      "\n"
     ]
    }
   ],
   "source": [
    "# show the output on the screen\n",
    "print(reversed.read_text())"
   ]
  },
  {
   "cell_type": "code",
   "execution_count": 6,
   "metadata": {},
   "outputs": [
    {
     "data": {
      "text/plain": [
       "'reversed.txt'"
      ]
     },
     "execution_count": 6,
     "metadata": {},
     "output_type": "execute_result"
    }
   ],
   "source": [
    "# save as an output file\n",
    "reversed.save('reversed.txt')"
   ]
  },
  {
   "cell_type": "markdown",
   "metadata": {},
   "source": [
    "# Crossflow - cluster&client: run in background"
   ]
  },
  {
   "cell_type": "code",
   "execution_count": 7,
   "metadata": {},
   "outputs": [],
   "source": [
    "from distributed import LocalCluster\n",
    "from crossflow.clients import Client\n",
    "\n",
    "# set up the cluster and client\n",
    "cluster = LocalCluster(n_workers=1)\n",
    "client = Client(cluster)"
   ]
  },
  {
   "cell_type": "markdown",
   "metadata": {},
   "source": [
    "## submit jobs to the local cluster from client"
   ]
  },
  {
   "cell_type": "code",
   "execution_count": 8,
   "metadata": {},
   "outputs": [
    {
     "name": "stdout",
     "output_type": "stream",
     "text": [
      "<Future: pending, key: run-a752acd2-52b2-4f81-9365-811cb4d00ca3>\n"
     ]
    }
   ],
   "source": [
    "reversed = client.submit(reverse, 'test.txt')\n",
    "print(reversed)"
   ]
  },
  {
   "cell_type": "code",
   "execution_count": 9,
   "metadata": {},
   "outputs": [
    {
     "name": "stdout",
     "output_type": "stream",
     "text": [
      "pending\n"
     ]
    }
   ],
   "source": [
    "print(reversed.status)"
   ]
  },
  {
   "cell_type": "code",
   "execution_count": 10,
   "metadata": {},
   "outputs": [
    {
     "name": "stdout",
     "output_type": "stream",
     "text": [
      "line 99\n",
      "line 98\n",
      "line 97\n",
      "line 96\n",
      "line 95\n",
      "line 94\n",
      "line 93\n",
      "line 92\n",
      "line 91\n",
      "line 90\n",
      "line 89\n",
      "line 88\n",
      "line 87\n",
      "line 86\n",
      "line 85\n",
      "line 84\n",
      "line 83\n",
      "line 82\n",
      "line 81\n",
      "line 80\n",
      "line 79\n",
      "line 78\n",
      "line 77\n",
      "line 76\n",
      "line 75\n",
      "line 74\n",
      "line 73\n",
      "line 72\n",
      "line 71\n",
      "line 70\n",
      "line 69\n",
      "line 68\n",
      "line 67\n",
      "line 66\n",
      "line 65\n",
      "line 64\n",
      "line 63\n",
      "line 62\n",
      "line 61\n",
      "line 60\n",
      "line 59\n",
      "line 58\n",
      "line 57\n",
      "line 56\n",
      "line 55\n",
      "line 54\n",
      "line 53\n",
      "line 52\n",
      "line 51\n",
      "line 50\n",
      "line 49\n",
      "line 48\n",
      "line 47\n",
      "line 46\n",
      "line 45\n",
      "line 44\n",
      "line 43\n",
      "line 42\n",
      "line 41\n",
      "line 40\n",
      "line 39\n",
      "line 38\n",
      "line 37\n",
      "line 36\n",
      "line 35\n",
      "line 34\n",
      "line 33\n",
      "line 32\n",
      "line 31\n",
      "line 30\n",
      "line 29\n",
      "line 28\n",
      "line 27\n",
      "line 26\n",
      "line 25\n",
      "line 24\n",
      "line 23\n",
      "line 22\n",
      "line 21\n",
      "line 20\n",
      "line 19\n",
      "line 18\n",
      "line 17\n",
      "line 16\n",
      "line 15\n",
      "line 14\n",
      "line 13\n",
      "line 12\n",
      "line 11\n",
      "line 10\n",
      "line 9\n",
      "line 8\n",
      "line 7\n",
      "line 6\n",
      "line 5\n",
      "line 4\n",
      "line 3\n",
      "line 2\n",
      "line 1\n",
      "line 0\n",
      "\n"
     ]
    }
   ],
   "source": [
    "real_reversed = reversed.result()\n",
    "print(real_reversed.read_text()) # not output file, just show the results"
   ]
  },
  {
   "cell_type": "markdown",
   "metadata": {},
   "source": [
    "## add a second step to the workflow: chunk and generate multiple files"
   ]
  },
  {
   "cell_type": "code",
   "execution_count": 11,
   "metadata": {},
   "outputs": [],
   "source": [
    "split5 = SubprocessTask('split -l {chunk_size} infile')\n",
    "split5.set_inputs(['infile', 'chunk_size'])\n",
    "split5.set_outputs(['xaa', 'xab', 'xac', 'xad', 'xae'])"
   ]
  },
  {
   "cell_type": "code",
   "execution_count": 12,
   "metadata": {},
   "outputs": [
    {
     "name": "stdout",
     "output_type": "stream",
     "text": [
      "(<Future: pending, key: lambda-5dcfdba4ae1799f775a83d9b512b30d5>, <Future: pending, key: lambda-0f7988ee2cfd6de5eea8184dbc15fe0f>, <Future: pending, key: lambda-7ea999776a1e18d3bac269071f371e95>, <Future: pending, key: lambda-d8501fc27dbcc6cb7868ef6e5b844bf6>, <Future: pending, key: lambda-2f1cbb3791d9cab5ad434903077ab8d3>)\n"
     ]
    }
   ],
   "source": [
    "n_lines = reversed.result().read_text().count('\\n')\n",
    "chunks = client.submit(split5, reversed, n_lines//5)\n",
    "print(chunks)"
   ]
  },
  {
   "cell_type": "code",
   "execution_count": 13,
   "metadata": {},
   "outputs": [
    {
     "data": {
      "text/plain": [
       "['line 3', 'line 2', 'line 1', 'line 0', '']"
      ]
     },
     "execution_count": 13,
     "metadata": {},
     "output_type": "execute_result"
    }
   ],
   "source": [
    "reversed.result().read_text().split('\\n')[-5:]"
   ]
  },
  {
   "cell_type": "code",
   "execution_count": 14,
   "metadata": {},
   "outputs": [],
   "source": [
    "revchunks = []\n",
    "for chunk in chunks:\n",
    "    revchunks.append(client.submit(reverse, chunk))"
   ]
  },
  {
   "cell_type": "code",
   "execution_count": 15,
   "metadata": {},
   "outputs": [],
   "source": [
    "revchunks = client.map(reverse, chunks)"
   ]
  },
  {
   "cell_type": "code",
   "execution_count": 16,
   "metadata": {},
   "outputs": [
    {
     "name": "stdout",
     "output_type": "stream",
     "text": [
      "/tmp/2ea804f0-6761-4d3a-b819-b70f116bbdc5.txt\n"
     ]
    }
   ],
   "source": [
    "print(revchunks[0].result())"
   ]
  },
  {
   "cell_type": "markdown",
   "metadata": {},
   "source": [
    "## put the file back"
   ]
  },
  {
   "cell_type": "code",
   "execution_count": 17,
   "metadata": {},
   "outputs": [],
   "source": [
    "# putting it back together\n",
    "cat = SubprocessTask('cat chunk* > whole')\n",
    "cat.set_inputs(['chunk*'])\n",
    "cat.set_outputs(['whole'])"
   ]
  },
  {
   "cell_type": "code",
   "execution_count": 18,
   "metadata": {},
   "outputs": [
    {
     "name": "stdout",
     "output_type": "stream",
     "text": [
      "line 80\n",
      "line 81\n",
      "line 82\n",
      "line 83\n",
      "line 84\n",
      "line 85\n",
      "line 86\n",
      "line 87\n",
      "line 88\n",
      "line 89\n",
      "line 90\n",
      "line 91\n",
      "line 92\n",
      "line 93\n",
      "line 94\n",
      "line 95\n",
      "line 96\n",
      "line 97\n",
      "line 98\n",
      "line 99\n",
      "line 60\n",
      "line 61\n",
      "line 62\n",
      "line 63\n",
      "line 64\n",
      "line 65\n",
      "line 66\n",
      "line 67\n",
      "line 68\n",
      "line 69\n",
      "line 70\n",
      "line 71\n",
      "line 72\n",
      "line 73\n",
      "line 74\n",
      "line 75\n",
      "line 76\n",
      "line 77\n",
      "line 78\n",
      "line 79\n",
      "line 40\n",
      "line 41\n",
      "line 42\n",
      "line 43\n",
      "line 44\n",
      "line 45\n",
      "line 46\n",
      "line 47\n",
      "line 48\n",
      "line 49\n",
      "line 50\n",
      "line 51\n",
      "line 52\n",
      "line 53\n",
      "line 54\n",
      "line 55\n",
      "line 56\n",
      "line 57\n",
      "line 58\n",
      "line 59\n",
      "line 20\n",
      "line 21\n",
      "line 22\n",
      "line 23\n",
      "line 24\n",
      "line 25\n",
      "line 26\n",
      "line 27\n",
      "line 28\n",
      "line 29\n",
      "line 30\n",
      "line 31\n",
      "line 32\n",
      "line 33\n",
      "line 34\n",
      "line 35\n",
      "line 36\n",
      "line 37\n",
      "line 38\n",
      "line 39\n",
      "line 0\n",
      "line 1\n",
      "line 2\n",
      "line 3\n",
      "line 4\n",
      "line 5\n",
      "line 6\n",
      "line 7\n",
      "line 8\n",
      "line 9\n",
      "line 10\n",
      "line 11\n",
      "line 12\n",
      "line 13\n",
      "line 14\n",
      "line 15\n",
      "line 16\n",
      "line 17\n",
      "line 18\n",
      "line 19\n",
      "\n"
     ]
    }
   ],
   "source": [
    "whole = client.submit(cat, revchunks)\n",
    "print(whole.result().read_text())"
   ]
  },
  {
   "cell_type": "markdown",
   "metadata": {},
   "source": [
    "## setting the functions to put it all together"
   ]
  },
  {
   "cell_type": "code",
   "execution_count": 19,
   "metadata": {},
   "outputs": [],
   "source": [
    "def my_workflow(input_filename, output_filename):\n",
    "    '''\n",
    "    Run the whole workflow\n",
    "    \n",
    "    For compactness the function does not redefine the tasks, etc.\n",
    "    '''\n",
    "    reversed = client.submit(reverse, input_filename)\n",
    "    n_lines = reversed.result().read_text().count('\\n')\n",
    "    chunks = client.submit(split5, reversed, n_lines//5)\n",
    "    revchunks = client.map(reverse, chunks)\n",
    "    whole = client.submit(cat, revchunks)\n",
    "    whole.result().save(output_filename)"
   ]
  },
  {
   "cell_type": "code",
   "execution_count": 20,
   "metadata": {},
   "outputs": [],
   "source": [
    "my_workflow('lines.txt', 'crossflow_output.txt')"
   ]
  },
  {
   "cell_type": "code",
   "execution_count": null,
   "metadata": {},
   "outputs": [],
   "source": []
  }
 ],
 "metadata": {
  "kernelspec": {
   "display_name": "Python 3",
   "language": "python",
   "name": "python3"
  },
  "language_info": {
   "codemirror_mode": {
    "name": "ipython",
    "version": 3
   },
   "file_extension": ".py",
   "mimetype": "text/x-python",
   "name": "python",
   "nbconvert_exporter": "python",
   "pygments_lexer": "ipython3",
   "version": "3.10.13"
  }
 },
 "nbformat": 4,
 "nbformat_minor": 2
}
